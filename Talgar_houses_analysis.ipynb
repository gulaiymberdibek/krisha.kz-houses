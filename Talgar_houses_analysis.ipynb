{
 "cells": [
  {
   "cell_type": "code",
   "execution_count": 59,
   "id": "b4ecd2da",
   "metadata": {},
   "outputs": [],
   "source": [
    "import pandas as pd\n",
    "df=pd.read_csv('house.csv')"
   ]
  },
  {
   "cell_type": "code",
   "execution_count": 135,
   "id": "ff2adb01",
   "metadata": {},
   "outputs": [
    {
     "data": {
      "text/html": [
       "<div>\n",
       "<style scoped>\n",
       "    .dataframe tbody tr th:only-of-type {\n",
       "        vertical-align: middle;\n",
       "    }\n",
       "\n",
       "    .dataframe tbody tr th {\n",
       "        vertical-align: top;\n",
       "    }\n",
       "\n",
       "    .dataframe thead th {\n",
       "        text-align: right;\n",
       "    }\n",
       "</style>\n",
       "<table border=\"1\" class=\"dataframe\">\n",
       "  <thead>\n",
       "    <tr style=\"text-align: right;\">\n",
       "      <th></th>\n",
       "      <th>location</th>\n",
       "      <th>price</th>\n",
       "      <th>room</th>\n",
       "      <th>area</th>\n",
       "    </tr>\n",
       "  </thead>\n",
       "  <tbody>\n",
       "    <tr>\n",
       "      <th>0</th>\n",
       "      <td>Жамбыла 38</td>\n",
       "      <td>12500000</td>\n",
       "      <td>1</td>\n",
       "      <td>41.0</td>\n",
       "    </tr>\n",
       "    <tr>\n",
       "      <th>1</th>\n",
       "      <td>Абая</td>\n",
       "      <td>21500000</td>\n",
       "      <td>2</td>\n",
       "      <td>52.0</td>\n",
       "    </tr>\n",
       "    <tr>\n",
       "      <th>2</th>\n",
       "      <td>Абая 80</td>\n",
       "      <td>35000000</td>\n",
       "      <td>3</td>\n",
       "      <td>96.0</td>\n",
       "    </tr>\n",
       "    <tr>\n",
       "      <th>3</th>\n",
       "      <td>Павлова 13а</td>\n",
       "      <td>24000000</td>\n",
       "      <td>2</td>\n",
       "      <td>50.0</td>\n",
       "    </tr>\n",
       "    <tr>\n",
       "      <th>4</th>\n",
       "      <td>Менделеева — Транспортная/Менделеева</td>\n",
       "      <td>12000000</td>\n",
       "      <td>1</td>\n",
       "      <td>31.0</td>\n",
       "    </tr>\n",
       "  </tbody>\n",
       "</table>\n",
       "</div>"
      ],
      "text/plain": [
       "                               location     price  room  area\n",
       "0                            Жамбыла 38  12500000     1  41.0\n",
       "1                                  Абая  21500000     2  52.0\n",
       "2                               Абая 80  35000000     3  96.0\n",
       "3                           Павлова 13а  24000000     2  50.0\n",
       "4  Менделеева — Транспортная/Менделеева  12000000     1  31.0"
      ]
     },
     "execution_count": 135,
     "metadata": {},
     "output_type": "execute_result"
    }
   ],
   "source": [
    "# see the first 5 rows  \n",
    "df.head()"
   ]
  },
  {
   "cell_type": "code",
   "execution_count": 136,
   "id": "da87cffe",
   "metadata": {},
   "outputs": [
    {
     "data": {
      "text/plain": [
       "(311, 4)"
      ]
     },
     "execution_count": 136,
     "metadata": {},
     "output_type": "execute_result"
    }
   ],
   "source": [
    "# rows and columns\n",
    "df.shape"
   ]
  },
  {
   "cell_type": "code",
   "execution_count": 97,
   "id": "ac9b43cc",
   "metadata": {},
   "outputs": [],
   "source": [
    "# dropping the duplicates\n",
    "df=df.drop_duplicates()"
   ]
  },
  {
   "cell_type": "code",
   "execution_count": 98,
   "id": "7ae52bdc",
   "metadata": {},
   "outputs": [
    {
     "data": {
      "text/plain": [
       "room\n",
       "1     48\n",
       "2    139\n",
       "3    109\n",
       "4     14\n",
       "5      1\n",
       "dtype: int64"
      ]
     },
     "execution_count": 98,
     "metadata": {},
     "output_type": "execute_result"
    }
   ],
   "source": [
    "# count each room type in df\n",
    "room_count_of_df=df.groupby('room').size()\n",
    "room_count_of_df"
   ]
  },
  {
   "cell_type": "code",
   "execution_count": 99,
   "id": "ff24ec02",
   "metadata": {},
   "outputs": [
    {
     "data": {
      "text/html": [
       "<div>\n",
       "<style scoped>\n",
       "    .dataframe tbody tr th:only-of-type {\n",
       "        vertical-align: middle;\n",
       "    }\n",
       "\n",
       "    .dataframe tbody tr th {\n",
       "        vertical-align: top;\n",
       "    }\n",
       "\n",
       "    .dataframe thead th {\n",
       "        text-align: right;\n",
       "    }\n",
       "</style>\n",
       "<table border=\"1\" class=\"dataframe\">\n",
       "  <thead>\n",
       "    <tr style=\"text-align: right;\">\n",
       "      <th></th>\n",
       "      <th>location</th>\n",
       "      <th>price</th>\n",
       "      <th>room</th>\n",
       "      <th>area</th>\n",
       "    </tr>\n",
       "  </thead>\n",
       "  <tbody>\n",
       "    <tr>\n",
       "      <th>38</th>\n",
       "      <td>Менделеева</td>\n",
       "      <td>25000000</td>\n",
       "      <td>3</td>\n",
       "      <td>64.0</td>\n",
       "    </tr>\n",
       "    <tr>\n",
       "      <th>110</th>\n",
       "      <td>Менделеева</td>\n",
       "      <td>17500000</td>\n",
       "      <td>2</td>\n",
       "      <td>40.0</td>\n",
       "    </tr>\n",
       "    <tr>\n",
       "      <th>160</th>\n",
       "      <td>Менделеева</td>\n",
       "      <td>20500000</td>\n",
       "      <td>3</td>\n",
       "      <td>69.0</td>\n",
       "    </tr>\n",
       "    <tr>\n",
       "      <th>310</th>\n",
       "      <td>Менделеева</td>\n",
       "      <td>23000000</td>\n",
       "      <td>4</td>\n",
       "      <td>82.0</td>\n",
       "    </tr>\n",
       "  </tbody>\n",
       "</table>\n",
       "</div>"
      ],
      "text/plain": [
       "       location     price  room  area\n",
       "38   Менделеева  25000000     3  64.0\n",
       "110  Менделеева  17500000     2  40.0\n",
       "160  Менделеева  20500000     3  69.0\n",
       "310  Менделеева  23000000     4  82.0"
      ]
     },
     "execution_count": 99,
     "metadata": {},
     "output_type": "execute_result"
    }
   ],
   "source": [
    "# Assume the client is looking at the houses in Mendeleeva street\n",
    "df[df['location']==\"Менделеева\"]"
   ]
  },
  {
   "cell_type": "code",
   "execution_count": 100,
   "id": "eade55a1",
   "metadata": {},
   "outputs": [],
   "source": [
    "# The client is looking for houses which have the price below or equal 20 mln,and their room\n",
    "df_filtered=df[df['price']<=20000000]\n",
    "room_counts = df_filtered.groupby('room').size().reset_index(name='count') \n"
   ]
  },
  {
   "cell_type": "code",
   "execution_count": 101,
   "id": "ed0ee8c1",
   "metadata": {},
   "outputs": [
    {
     "data": {
      "text/html": [
       "<div>\n",
       "<style scoped>\n",
       "    .dataframe tbody tr th:only-of-type {\n",
       "        vertical-align: middle;\n",
       "    }\n",
       "\n",
       "    .dataframe tbody tr th {\n",
       "        vertical-align: top;\n",
       "    }\n",
       "\n",
       "    .dataframe thead th {\n",
       "        text-align: right;\n",
       "    }\n",
       "</style>\n",
       "<table border=\"1\" class=\"dataframe\">\n",
       "  <thead>\n",
       "    <tr style=\"text-align: right;\">\n",
       "      <th></th>\n",
       "      <th>room</th>\n",
       "      <th>count</th>\n",
       "    </tr>\n",
       "  </thead>\n",
       "  <tbody>\n",
       "    <tr>\n",
       "      <th>0</th>\n",
       "      <td>1</td>\n",
       "      <td>42</td>\n",
       "    </tr>\n",
       "    <tr>\n",
       "      <th>1</th>\n",
       "      <td>2</td>\n",
       "      <td>90</td>\n",
       "    </tr>\n",
       "    <tr>\n",
       "      <th>2</th>\n",
       "      <td>3</td>\n",
       "      <td>21</td>\n",
       "    </tr>\n",
       "    <tr>\n",
       "      <th>3</th>\n",
       "      <td>4</td>\n",
       "      <td>1</td>\n",
       "    </tr>\n",
       "  </tbody>\n",
       "</table>\n",
       "</div>"
      ],
      "text/plain": [
       "   room  count\n",
       "0     1     42\n",
       "1     2     90\n",
       "2     3     21\n",
       "3     4      1"
      ]
     },
     "execution_count": 101,
     "metadata": {},
     "output_type": "execute_result"
    }
   ],
   "source": [
    "room_counts"
   ]
  },
  {
   "cell_type": "code",
   "execution_count": 102,
   "id": "99023937",
   "metadata": {},
   "outputs": [
    {
     "data": {
      "text/html": [
       "<div>\n",
       "<style scoped>\n",
       "    .dataframe tbody tr th:only-of-type {\n",
       "        vertical-align: middle;\n",
       "    }\n",
       "\n",
       "    .dataframe tbody tr th {\n",
       "        vertical-align: top;\n",
       "    }\n",
       "\n",
       "    .dataframe thead th {\n",
       "        text-align: right;\n",
       "    }\n",
       "</style>\n",
       "<table border=\"1\" class=\"dataframe\">\n",
       "  <thead>\n",
       "    <tr style=\"text-align: right;\">\n",
       "      <th></th>\n",
       "      <th>location</th>\n",
       "      <th>price</th>\n",
       "      <th>room</th>\n",
       "      <th>area</th>\n",
       "    </tr>\n",
       "  </thead>\n",
       "  <tbody>\n",
       "    <tr>\n",
       "      <th>0</th>\n",
       "      <td>Жамбыла 38</td>\n",
       "      <td>12500000</td>\n",
       "      <td>1</td>\n",
       "      <td>41.0</td>\n",
       "    </tr>\n",
       "    <tr>\n",
       "      <th>4</th>\n",
       "      <td>Менделеева — Транспортная/Менделеева</td>\n",
       "      <td>12000000</td>\n",
       "      <td>1</td>\n",
       "      <td>31.0</td>\n",
       "    </tr>\n",
       "    <tr>\n",
       "      <th>6</th>\n",
       "      <td>Павлова</td>\n",
       "      <td>15500000</td>\n",
       "      <td>1</td>\n",
       "      <td>35.0</td>\n",
       "    </tr>\n",
       "    <tr>\n",
       "      <th>11</th>\n",
       "      <td>Абая 85</td>\n",
       "      <td>18500000</td>\n",
       "      <td>1</td>\n",
       "      <td>35.0</td>\n",
       "    </tr>\n",
       "    <tr>\n",
       "      <th>17</th>\n",
       "      <td>Павлова 1 — Муратбаева</td>\n",
       "      <td>12253000</td>\n",
       "      <td>1</td>\n",
       "      <td>40.0</td>\n",
       "    </tr>\n",
       "    <tr>\n",
       "      <th>46</th>\n",
       "      <td>Абылайхан — Рысқұлов</td>\n",
       "      <td>15000000</td>\n",
       "      <td>1</td>\n",
       "      <td>40.0</td>\n",
       "    </tr>\n",
       "    <tr>\n",
       "      <th>53</th>\n",
       "      <td>Махмут Кашкари 16</td>\n",
       "      <td>12000000</td>\n",
       "      <td>1</td>\n",
       "      <td>38.0</td>\n",
       "    </tr>\n",
       "    <tr>\n",
       "      <th>64</th>\n",
       "      <td>РТС 209 — Главный трассе Талгара вторая остано...</td>\n",
       "      <td>6500000</td>\n",
       "      <td>1</td>\n",
       "      <td>18.0</td>\n",
       "    </tr>\n",
       "    <tr>\n",
       "      <th>71</th>\n",
       "      <td>Карасай Батыра — Менделеева</td>\n",
       "      <td>11500000</td>\n",
       "      <td>1</td>\n",
       "      <td>37.0</td>\n",
       "    </tr>\n",
       "    <tr>\n",
       "      <th>88</th>\n",
       "      <td>Нуртазина 25</td>\n",
       "      <td>18000000</td>\n",
       "      <td>1</td>\n",
       "      <td>47.0</td>\n",
       "    </tr>\n",
       "    <tr>\n",
       "      <th>93</th>\n",
       "      <td>Абая 80</td>\n",
       "      <td>20000000</td>\n",
       "      <td>1</td>\n",
       "      <td>47.0</td>\n",
       "    </tr>\n",
       "    <tr>\n",
       "      <th>104</th>\n",
       "      <td>Ахметова 30</td>\n",
       "      <td>13500000</td>\n",
       "      <td>1</td>\n",
       "      <td>33.0</td>\n",
       "    </tr>\n",
       "    <tr>\n",
       "      <th>105</th>\n",
       "      <td>Абая 72 — Цон</td>\n",
       "      <td>16300000</td>\n",
       "      <td>1</td>\n",
       "      <td>30.0</td>\n",
       "    </tr>\n",
       "    <tr>\n",
       "      <th>112</th>\n",
       "      <td>Кунаева 209</td>\n",
       "      <td>7600000</td>\n",
       "      <td>1</td>\n",
       "      <td>18.0</td>\n",
       "    </tr>\n",
       "    <tr>\n",
       "      <th>116</th>\n",
       "      <td>Нуртазина 31 — Грушевая Лермонтова</td>\n",
       "      <td>14600000</td>\n",
       "      <td>1</td>\n",
       "      <td>36.0</td>\n",
       "    </tr>\n",
       "    <tr>\n",
       "      <th>124</th>\n",
       "      <td>Лермонтова — Бокина</td>\n",
       "      <td>17500000</td>\n",
       "      <td>1</td>\n",
       "      <td>49.0</td>\n",
       "    </tr>\n",
       "    <tr>\n",
       "      <th>128</th>\n",
       "      <td>Нуртазина 31</td>\n",
       "      <td>11500000</td>\n",
       "      <td>1</td>\n",
       "      <td>30.0</td>\n",
       "    </tr>\n",
       "    <tr>\n",
       "      <th>137</th>\n",
       "      <td>Бокина 3</td>\n",
       "      <td>15000000</td>\n",
       "      <td>1</td>\n",
       "      <td>31.0</td>\n",
       "    </tr>\n",
       "    <tr>\n",
       "      <th>138</th>\n",
       "      <td>Лермонтова 52 — Цон</td>\n",
       "      <td>16000000</td>\n",
       "      <td>1</td>\n",
       "      <td>48.0</td>\n",
       "    </tr>\n",
       "    <tr>\n",
       "      <th>140</th>\n",
       "      <td>Карасай Батыра 1</td>\n",
       "      <td>15000000</td>\n",
       "      <td>1</td>\n",
       "      <td>38.0</td>\n",
       "    </tr>\n",
       "    <tr>\n",
       "      <th>143</th>\n",
       "      <td>Рыскулова 66 — Акимат</td>\n",
       "      <td>7500000</td>\n",
       "      <td>1</td>\n",
       "      <td>19.0</td>\n",
       "    </tr>\n",
       "    <tr>\n",
       "      <th>144</th>\n",
       "      <td>Бухтарминская 2 — Находится напротив нового Ap...</td>\n",
       "      <td>15500000</td>\n",
       "      <td>1</td>\n",
       "      <td>32.0</td>\n",
       "    </tr>\n",
       "    <tr>\n",
       "      <th>148</th>\n",
       "      <td>М Қашқари 16 — Районе РТС</td>\n",
       "      <td>8000000</td>\n",
       "      <td>1</td>\n",
       "      <td>18.0</td>\n",
       "    </tr>\n",
       "    <tr>\n",
       "      <th>152</th>\n",
       "      <td>Павлова 28 — Джамбуа</td>\n",
       "      <td>7500000</td>\n",
       "      <td>1</td>\n",
       "      <td>18.0</td>\n",
       "    </tr>\n",
       "    <tr>\n",
       "      <th>154</th>\n",
       "      <td>Нуртазина 31</td>\n",
       "      <td>12000000</td>\n",
       "      <td>1</td>\n",
       "      <td>32.0</td>\n",
       "    </tr>\n",
       "    <tr>\n",
       "      <th>155</th>\n",
       "      <td>Карасай батыра</td>\n",
       "      <td>17000000</td>\n",
       "      <td>1</td>\n",
       "      <td>34.0</td>\n",
       "    </tr>\n",
       "    <tr>\n",
       "      <th>173</th>\n",
       "      <td>Бокина</td>\n",
       "      <td>11999999</td>\n",
       "      <td>1</td>\n",
       "      <td>30.0</td>\n",
       "    </tr>\n",
       "    <tr>\n",
       "      <th>181</th>\n",
       "      <td>Мусрепова — Наурыбай Батыра ЦРБ</td>\n",
       "      <td>14700000</td>\n",
       "      <td>1</td>\n",
       "      <td>45.0</td>\n",
       "    </tr>\n",
       "    <tr>\n",
       "      <th>200</th>\n",
       "      <td>Лермонтова 52</td>\n",
       "      <td>16500000</td>\n",
       "      <td>1</td>\n",
       "      <td>48.0</td>\n",
       "    </tr>\n",
       "    <tr>\n",
       "      <th>203</th>\n",
       "      <td>Кашкари 16 — Емелева</td>\n",
       "      <td>12300000</td>\n",
       "      <td>1</td>\n",
       "      <td>37.0</td>\n",
       "    </tr>\n",
       "    <tr>\n",
       "      <th>217</th>\n",
       "      <td>Рыскулова 66 — Акимат</td>\n",
       "      <td>8000000</td>\n",
       "      <td>1</td>\n",
       "      <td>18.0</td>\n",
       "    </tr>\n",
       "    <tr>\n",
       "      <th>227</th>\n",
       "      <td>Карасайбатыр 34 — Менделеева</td>\n",
       "      <td>14500000</td>\n",
       "      <td>1</td>\n",
       "      <td>39.0</td>\n",
       "    </tr>\n",
       "    <tr>\n",
       "      <th>231</th>\n",
       "      <td>Кашкари 16 — ЭРТС</td>\n",
       "      <td>12500000</td>\n",
       "      <td>1</td>\n",
       "      <td>37.0</td>\n",
       "    </tr>\n",
       "    <tr>\n",
       "      <th>244</th>\n",
       "      <td>Тілендиев 18 — Абылай хан</td>\n",
       "      <td>8000000</td>\n",
       "      <td>1</td>\n",
       "      <td>30.0</td>\n",
       "    </tr>\n",
       "    <tr>\n",
       "      <th>250</th>\n",
       "      <td>Конаева — Главный трассе Талгара 2 остановка РТС</td>\n",
       "      <td>6500000</td>\n",
       "      <td>1</td>\n",
       "      <td>19.0</td>\n",
       "    </tr>\n",
       "    <tr>\n",
       "      <th>258</th>\n",
       "      <td>ул Абая 83 — ул Кунаева</td>\n",
       "      <td>15000000</td>\n",
       "      <td>1</td>\n",
       "      <td>36.0</td>\n",
       "    </tr>\n",
       "    <tr>\n",
       "      <th>263</th>\n",
       "      <td>Жк Достар 277А — Талгарская трасса.Мега Центр</td>\n",
       "      <td>19500000</td>\n",
       "      <td>1</td>\n",
       "      <td>38.0</td>\n",
       "    </tr>\n",
       "    <tr>\n",
       "      <th>266</th>\n",
       "      <td>Суюнбая 3А</td>\n",
       "      <td>8300000</td>\n",
       "      <td>1</td>\n",
       "      <td>42.0</td>\n",
       "    </tr>\n",
       "    <tr>\n",
       "      <th>273</th>\n",
       "      <td>Абая 83</td>\n",
       "      <td>16000000</td>\n",
       "      <td>1</td>\n",
       "      <td>40.0</td>\n",
       "    </tr>\n",
       "    <tr>\n",
       "      <th>281</th>\n",
       "      <td>Рускулова 66</td>\n",
       "      <td>6500000</td>\n",
       "      <td>1</td>\n",
       "      <td>18.0</td>\n",
       "    </tr>\n",
       "    <tr>\n",
       "      <th>291</th>\n",
       "      <td>Промышленная — Некрасова</td>\n",
       "      <td>13500000</td>\n",
       "      <td>1</td>\n",
       "      <td>37.0</td>\n",
       "    </tr>\n",
       "    <tr>\n",
       "      <th>311</th>\n",
       "      <td>Суюнбая — Кунаева суюнбая</td>\n",
       "      <td>8800000</td>\n",
       "      <td>1</td>\n",
       "      <td>37.0</td>\n",
       "    </tr>\n",
       "  </tbody>\n",
       "</table>\n",
       "</div>"
      ],
      "text/plain": [
       "                                              location     price  room  area\n",
       "0                                           Жамбыла 38  12500000     1  41.0\n",
       "4                 Менделеева — Транспортная/Менделеева  12000000     1  31.0\n",
       "6                                              Павлова  15500000     1  35.0\n",
       "11                                             Абая 85  18500000     1  35.0\n",
       "17                              Павлова 1 — Муратбаева  12253000     1  40.0\n",
       "46                                Абылайхан — Рысқұлов  15000000     1  40.0\n",
       "53                                   Махмут Кашкари 16  12000000     1  38.0\n",
       "64   РТС 209 — Главный трассе Талгара вторая остано...   6500000     1  18.0\n",
       "71                         Карасай Батыра — Менделеева  11500000     1  37.0\n",
       "88                                        Нуртазина 25  18000000     1  47.0\n",
       "93                                             Абая 80  20000000     1  47.0\n",
       "104                                        Ахметова 30  13500000     1  33.0\n",
       "105                                      Абая 72 — Цон  16300000     1  30.0\n",
       "112                                        Кунаева 209   7600000     1  18.0\n",
       "116                 Нуртазина 31 — Грушевая Лермонтова  14600000     1  36.0\n",
       "124                                Лермонтова — Бокина  17500000     1  49.0\n",
       "128                                       Нуртазина 31  11500000     1  30.0\n",
       "137                                           Бокина 3  15000000     1  31.0\n",
       "138                                Лермонтова 52 — Цон  16000000     1  48.0\n",
       "140                                   Карасай Батыра 1  15000000     1  38.0\n",
       "143                              Рыскулова 66 — Акимат   7500000     1  19.0\n",
       "144  Бухтарминская 2 — Находится напротив нового Ap...  15500000     1  32.0\n",
       "148                          М Қашқари 16 — Районе РТС   8000000     1  18.0\n",
       "152                               Павлова 28 — Джамбуа   7500000     1  18.0\n",
       "154                                       Нуртазина 31  12000000     1  32.0\n",
       "155                                     Карасай батыра  17000000     1  34.0\n",
       "173                                             Бокина  11999999     1  30.0\n",
       "181                    Мусрепова — Наурыбай Батыра ЦРБ  14700000     1  45.0\n",
       "200                                      Лермонтова 52  16500000     1  48.0\n",
       "203                               Кашкари 16 — Емелева  12300000     1  37.0\n",
       "217                              Рыскулова 66 — Акимат   8000000     1  18.0\n",
       "227                       Карасайбатыр 34 — Менделеева  14500000     1  39.0\n",
       "231                                  Кашкари 16 — ЭРТС  12500000     1  37.0\n",
       "244                          Тілендиев 18 — Абылай хан   8000000     1  30.0\n",
       "250   Конаева — Главный трассе Талгара 2 остановка РТС   6500000     1  19.0\n",
       "258                            ул Абая 83 — ул Кунаева  15000000     1  36.0\n",
       "263      Жк Достар 277А — Талгарская трасса.Мега Центр  19500000     1  38.0\n",
       "266                                         Суюнбая 3А   8300000     1  42.0\n",
       "273                                            Абая 83  16000000     1  40.0\n",
       "281                                       Рускулова 66   6500000     1  18.0\n",
       "291                           Промышленная — Некрасова  13500000     1  37.0\n",
       "311                          Суюнбая — Кунаева суюнбая   8800000     1  37.0"
      ]
     },
     "execution_count": 102,
     "metadata": {},
     "output_type": "execute_result"
    }
   ],
   "source": [
    "\n",
    "df_filtered2=df[(df['price']<=20000000) & (df['room']==1)]\n",
    "df_filtered2\n"
   ]
  },
  {
   "cell_type": "code",
   "execution_count": 103,
   "id": "4f33a4a7",
   "metadata": {},
   "outputs": [
    {
     "data": {
      "text/plain": [
       "location     object\n",
       "price         int64\n",
       "room          int64\n",
       "area        float64\n",
       "dtype: object"
      ]
     },
     "execution_count": 103,
     "metadata": {},
     "output_type": "execute_result"
    }
   ],
   "source": [
    "# types\n",
    "df.dtypes"
   ]
  },
  {
   "cell_type": "code",
   "execution_count": 104,
   "id": "50cd25af",
   "metadata": {},
   "outputs": [
    {
     "data": {
      "text/html": [
       "<div>\n",
       "<style scoped>\n",
       "    .dataframe tbody tr th:only-of-type {\n",
       "        vertical-align: middle;\n",
       "    }\n",
       "\n",
       "    .dataframe tbody tr th {\n",
       "        vertical-align: top;\n",
       "    }\n",
       "\n",
       "    .dataframe thead th {\n",
       "        text-align: right;\n",
       "    }\n",
       "</style>\n",
       "<table border=\"1\" class=\"dataframe\">\n",
       "  <thead>\n",
       "    <tr style=\"text-align: right;\">\n",
       "      <th></th>\n",
       "      <th>price</th>\n",
       "      <th>room</th>\n",
       "      <th>area</th>\n",
       "    </tr>\n",
       "  </thead>\n",
       "  <tbody>\n",
       "    <tr>\n",
       "      <th>count</th>\n",
       "      <td>3.110000e+02</td>\n",
       "      <td>311.000000</td>\n",
       "      <td>311.000000</td>\n",
       "    </tr>\n",
       "    <tr>\n",
       "      <th>mean</th>\n",
       "      <td>2.065706e+07</td>\n",
       "      <td>2.295820</td>\n",
       "      <td>54.842444</td>\n",
       "    </tr>\n",
       "    <tr>\n",
       "      <th>std</th>\n",
       "      <td>6.760925e+06</td>\n",
       "      <td>0.792677</td>\n",
       "      <td>16.395050</td>\n",
       "    </tr>\n",
       "    <tr>\n",
       "      <th>min</th>\n",
       "      <td>2.200000e+06</td>\n",
       "      <td>1.000000</td>\n",
       "      <td>18.000000</td>\n",
       "    </tr>\n",
       "    <tr>\n",
       "      <th>25%</th>\n",
       "      <td>1.650000e+07</td>\n",
       "      <td>2.000000</td>\n",
       "      <td>44.000000</td>\n",
       "    </tr>\n",
       "    <tr>\n",
       "      <th>50%</th>\n",
       "      <td>2.050000e+07</td>\n",
       "      <td>2.000000</td>\n",
       "      <td>53.000000</td>\n",
       "    </tr>\n",
       "    <tr>\n",
       "      <th>75%</th>\n",
       "      <td>2.400000e+07</td>\n",
       "      <td>3.000000</td>\n",
       "      <td>65.000000</td>\n",
       "    </tr>\n",
       "    <tr>\n",
       "      <th>max</th>\n",
       "      <td>4.500000e+07</td>\n",
       "      <td>5.000000</td>\n",
       "      <td>132.000000</td>\n",
       "    </tr>\n",
       "  </tbody>\n",
       "</table>\n",
       "</div>"
      ],
      "text/plain": [
       "              price        room        area\n",
       "count  3.110000e+02  311.000000  311.000000\n",
       "mean   2.065706e+07    2.295820   54.842444\n",
       "std    6.760925e+06    0.792677   16.395050\n",
       "min    2.200000e+06    1.000000   18.000000\n",
       "25%    1.650000e+07    2.000000   44.000000\n",
       "50%    2.050000e+07    2.000000   53.000000\n",
       "75%    2.400000e+07    3.000000   65.000000\n",
       "max    4.500000e+07    5.000000  132.000000"
      ]
     },
     "execution_count": 104,
     "metadata": {},
     "output_type": "execute_result"
    }
   ],
   "source": [
    "df.describe()  #statistical summary"
   ]
  },
  {
   "cell_type": "code",
   "execution_count": 105,
   "id": "777dd2c1",
   "metadata": {},
   "outputs": [],
   "source": [
    "# draw a histogram for price column\n",
    "import matplotlib.pyplot as plt"
   ]
  },
  {
   "cell_type": "code",
   "execution_count": 106,
   "id": "1d1311b2",
   "metadata": {},
   "outputs": [
    {
     "data": {
      "text/plain": [
       "(array([ 2.,  1., 13.,  2., 20., 23., 33., 34., 43., 44., 37., 20., 17.,\n",
       "         4.,  5.,  8.,  2.,  2.,  0.,  1.]),\n",
       " array([ 2200000.,  4340000.,  6480000.,  8620000., 10760000., 12900000.,\n",
       "        15040000., 17180000., 19320000., 21460000., 23600000., 25740000.,\n",
       "        27880000., 30020000., 32160000., 34300000., 36440000., 38580000.,\n",
       "        40720000., 42860000., 45000000.]),\n",
       " <BarContainer object of 20 artists>)"
      ]
     },
     "execution_count": 106,
     "metadata": {},
     "output_type": "execute_result"
    },
    {
     "data": {
      "image/png": "[encoded data removed]",
      "text/plain": [
       "<Figure size 640x480 with 1 Axes>"
      ]
     },
     "metadata": {},
     "output_type": "display_data"
    }
   ],
   "source": [
    "plt.hist(df['price'],alpha=0.5,color='red',bins='auto')"
   ]
  },
  {
   "cell_type": "code",
   "execution_count": null,
   "id": "d47ca815",
   "metadata": {},
   "outputs": [],
   "source": []
  },
  {
   "cell_type": "code",
   "execution_count": 107,
   "id": "c05855fc",
   "metadata": {},
   "outputs": [
    {
     "data": {
      "text/plain": [
       "20657056.546623792"
      ]
     },
     "execution_count": 107,
     "metadata": {},
     "output_type": "execute_result"
    }
   ],
   "source": [
    "# calculate the mean for price\n",
    "df['price'].mean()"
   ]
  },
  {
   "cell_type": "code",
   "execution_count": 108,
   "id": "e55c9850",
   "metadata": {},
   "outputs": [
    {
     "data": {
      "text/plain": [
       "42800000"
      ]
     },
     "execution_count": 108,
     "metadata": {},
     "output_type": "execute_result"
    }
   ],
   "source": [
    "# calcu;ate the range\n",
    "import numpy as np\n",
    "np.ptp(df['price'])"
   ]
  },
  {
   "cell_type": "code",
   "execution_count": 109,
   "id": "8e08595e",
   "metadata": {},
   "outputs": [],
   "source": [
    "# calculate iqr for price \n",
    "price=df['price'].sort_values()"
   ]
  },
  {
   "cell_type": "code",
   "execution_count": 110,
   "id": "09ce5237",
   "metadata": {},
   "outputs": [
    {
     "data": {
      "text/plain": [
       "7500000.0"
      ]
     },
     "execution_count": 110,
     "metadata": {},
     "output_type": "execute_result"
    }
   ],
   "source": [
    "from scipy.stats import iqr\n",
    "iqr(df['price'])"
   ]
  },
  {
   "cell_type": "code",
   "execution_count": null,
   "id": "94cb77e7",
   "metadata": {},
   "outputs": [],
   "source": []
  },
  {
   "cell_type": "code",
   "execution_count": 112,
   "id": "13af2da2",
   "metadata": {},
   "outputs": [
    {
     "data": {
      "image/png": "[encoded data removed]",
      "text/plain": [
       "<Figure size 640x480 with 1 Axes>"
      ]
     },
     "metadata": {},
     "output_type": "display_data"
    }
   ],
   "source": [
    "plt.boxplot(df['price'])\n",
    "plt.title('Boxplot of Price')\n",
    "plt.xlabel('Price')\n",
    "plt.show()"
   ]
  },
  {
   "cell_type": "code",
   "execution_count": 120,
   "id": "648a2f08",
   "metadata": {},
   "outputs": [
    {
     "data": {
      "text/plain": [
       "(array([ 8.,  2., 17., 32., 51., 46., 35., 48., 36., 10.,  7.,  7.,  7.,\n",
       "         3.,  1.,  0.,  0.,  0.,  1.]),\n",
       " array([ 18.,  24.,  30.,  36.,  42.,  48.,  54.,  60.,  66.,  72.,  78.,\n",
       "         84.,  90.,  96., 102., 108., 114., 120., 126., 132.]),\n",
       " <BarContainer object of 19 artists>)"
      ]
     },
     "execution_count": 120,
     "metadata": {},
     "output_type": "execute_result"
    },
    {
     "data": {
      "image/png": "[encoded data removed]",
      "text/plain": [
       "<Figure size 640x480 with 1 Axes>"
      ]
     },
     "metadata": {},
     "output_type": "display_data"
    }
   ],
   "source": [
    "# draw a histogram for area\n",
    "plt.hist(df['area'],color='red',bins='auto',alpha=0.7)"
   ]
  },
  {
   "cell_type": "code",
   "execution_count": 126,
   "id": "bb42addd",
   "metadata": {},
   "outputs": [
    {
     "data": {
      "image/png": "[encoded data removed]",
      "text/plain": [
       "<Figure size 640x480 with 1 Axes>"
      ]
     },
     "metadata": {},
     "output_type": "display_data"
    }
   ],
   "source": [
    "# draw scatterplot to know how the price is distributer for area \n",
    "plt.scatter(df['area'],df['price'])\n",
    "plt.title('Scatter Plot for Price')\n",
    "plt.xlabel('Area')\n",
    "plt.ylabel('Price')\n",
    "plt.show()"
   ]
  },
  {
   "cell_type": "code",
   "execution_count": 129,
   "id": "d24cae47",
   "metadata": {},
   "outputs": [
    {
     "data": {
      "text/plain": [
       "0    304878.048780\n",
       "1    413461.538462\n",
       "2    364583.333333\n",
       "3    480000.000000\n",
       "4    387096.774194\n",
       "dtype: float64"
      ]
     },
     "execution_count": 129,
     "metadata": {},
     "output_type": "execute_result"
    }
   ],
   "source": [
    "# calculate the price per km\n",
    "price_per_km = df['price'] / df['area']\n",
    "price_per_km.head()\n"
   ]
  },
  {
   "cell_type": "code",
   "execution_count": 130,
   "id": "cb532242",
   "metadata": {},
   "outputs": [
    {
     "data": {
      "text/plain": [
       "(311,)"
      ]
     },
     "execution_count": 130,
     "metadata": {},
     "output_type": "execute_result"
    }
   ],
   "source": [
    "price_per_km.shape"
   ]
  },
  {
   "cell_type": "code",
   "execution_count": 134,
   "id": "fcd56535",
   "metadata": {},
   "outputs": [
    {
     "data": {
      "text/plain": [
       "(array([  3.,   0.,   3.,  17.,  61., 104.,  70.,  37.,  14.,   2.]),\n",
       " array([ 49888.88888889, 107611.86440678, 165334.83992467, 223057.81544256,\n",
       "        280780.79096045, 338503.76647834, 396226.74199623, 453949.71751412,\n",
       "        511672.69303202, 569395.66854991, 627118.6440678 ]),\n",
       " <BarContainer object of 10 artists>)"
      ]
     },
     "execution_count": 134,
     "metadata": {},
     "output_type": "execute_result"
    },
    {
     "data": {
      "image/png": "[encoded data removed]",
      "text/plain": [
       "<Figure size 640x480 with 1 Axes>"
      ]
     },
     "metadata": {},
     "output_type": "display_data"
    }
   ],
   "source": [
    "# draw histogram for price_per_km\n",
    "plt.hist(price_per_km,color='blue',alpha=0.7)"
   ]
  },
  {
   "cell_type": "code",
   "execution_count": 137,
   "id": "7a5eec67",
   "metadata": {},
   "outputs": [
    {
     "data": {
      "text/html": [
       "<div>\n",
       "<style scoped>\n",
       "    .dataframe tbody tr th:only-of-type {\n",
       "        vertical-align: middle;\n",
       "    }\n",
       "\n",
       "    .dataframe tbody tr th {\n",
       "        vertical-align: top;\n",
       "    }\n",
       "\n",
       "    .dataframe thead th {\n",
       "        text-align: right;\n",
       "    }\n",
       "</style>\n",
       "<table border=\"1\" class=\"dataframe\">\n",
       "  <thead>\n",
       "    <tr style=\"text-align: right;\">\n",
       "      <th></th>\n",
       "      <th>location</th>\n",
       "      <th>price</th>\n",
       "      <th>room</th>\n",
       "      <th>area</th>\n",
       "    </tr>\n",
       "  </thead>\n",
       "  <tbody>\n",
       "  </tbody>\n",
       "</table>\n",
       "</div>"
      ],
      "text/plain": [
       "Empty DataFrame\n",
       "Columns: [location, price, room, area]\n",
       "Index: []"
      ]
     },
     "execution_count": 137,
     "metadata": {},
     "output_type": "execute_result"
    }
   ],
   "source": [
    "# selecting NAN rows\n",
    "rows_with_nan = df[df.isna().any(axis=1)]\n",
    "rows_with_nan"
   ]
  },
  {
   "cell_type": "code",
   "execution_count": 138,
   "id": "1a579a92",
   "metadata": {},
   "outputs": [],
   "source": [
    "# determining the distribution of price column\n",
    "from scipy.stats import skew, kurtosis\n",
    "skewness = skew(df['price'])\n",
    "kurt = kurtosis(df['price'])"
   ]
  },
  {
   "cell_type": "code",
   "execution_count": 139,
   "id": "db17454d",
   "metadata": {},
   "outputs": [
    {
     "data": {
      "text/plain": [
       "0.242133093754617"
      ]
     },
     "execution_count": 139,
     "metadata": {},
     "output_type": "execute_result"
    }
   ],
   "source": [
    "# 0.24 skewness means the data are positive and I have outliers(was shown in the boxplot)\n",
    "skewness"
   ]
  },
  {
   "cell_type": "code",
   "execution_count": null,
   "id": "1c18d59d",
   "metadata": {},
   "outputs": [],
   "source": []
  },
  {
   "cell_type": "code",
   "execution_count": 140,
   "id": "f564757e",
   "metadata": {},
   "outputs": [
    {
     "data": {
      "text/plain": [
       "0.5797748852369273"
      ]
     },
     "execution_count": 140,
     "metadata": {},
     "output_type": "execute_result"
    }
   ],
   "source": [
    "# 0.58 indicates a distribution with lighter tails than a normal distribution\n",
    "kurt"
   ]
  },
  {
   "cell_type": "code",
   "execution_count": null,
   "id": "ce191b04",
   "metadata": {},
   "outputs": [],
   "source": [
    "#  right-skewed distribution with lighter tails suggests that\n",
    "# the majority of values are concentrated towards the lower end, \n",
    "# with a few high values contributing to the right skewness."
   ]
  },
  {
   "cell_type": "code",
   "execution_count": null,
   "id": "af192ff9",
   "metadata": {},
   "outputs": [],
   "source": []
  }
 ],
 "metadata": {
  "kernelspec": {
   "display_name": "Python 3 (ipykernel)",
   "language": "python",
   "name": "python3"
  },
  "language_info": {
   "codemirror_mode": {
    "name": "ipython",
    "version": 3
   },
   "file_extension": ".py",
   "mimetype": "text/x-python",
   "name": "python",
   "nbconvert_exporter": "python",
   "pygments_lexer": "ipython3",
   "version": "3.11.5"
  }
 },
 "nbformat": 4,
 "nbformat_minor": 5
}
